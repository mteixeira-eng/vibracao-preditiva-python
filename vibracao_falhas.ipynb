{
  "cells": [
    {
      "cell_type": "markdown",
      "metadata": {},
      "source": [
        "# Previs\u00e3o de Falhas com Dados de Vibra\u00e7\u00e3o\n",
        "Este notebook simula dados de vibra\u00e7\u00e3o e aplica um modelo de machine learning para prever falhas."
      ]
    },
    {
      "cell_type": "code",
      "execution_count": null,
      "metadata": {},
      "outputs": [],
      "source": [
        "import pandas as pd\n",
        "import numpy as np\n",
        "from sklearn.model_selection import train_test_split\n",
        "from sklearn.ensemble import RandomForestClassifier\n",
        "from sklearn.metrics import accuracy_score, confusion_matrix\n",
        "\n",
        "# Simula\u00e7\u00e3o de dados\n",
        "np.random.seed(42)\n",
        "n = 500\n",
        "dados = pd.DataFrame({\n",
        "    'frequencia': np.random.normal(60, 5, n),\n",
        "    'amplitude': np.random.normal(10, 2, n),\n",
        "    'temperatura': np.random.normal(70, 10, n),\n",
        "    'falha': np.random.choice([0, 1], size=n, p=[0.8, 0.2])\n",
        "})\n",
        "\n",
        "# Modelo\n",
        "X = dados[['frequencia', 'amplitude', 'temperatura']]\n",
        "y = dados['falha']\n",
        "X_train, X_test, y_train, y_test = train_test_split(X, y, test_size=0.3, random_state=42)\n",
        "model = RandomForestClassifier()\n",
        "model.fit(X_train, y_train)\n",
        "preds = model.predict(X_test)\n",
        "\n",
        "# Avalia\u00e7\u00e3o\n",
        "print('Acur\u00e1cia:', accuracy_score(y_test, preds))\n",
        "print('Matriz de confus\u00e3o:\\n', confusion_matrix(y_test, preds))"
      ]
    }
  ],
  "metadata": {
    "kernelspec": {
      "display_name": "Python 3",
      "language": "python",
      "name": "python3"
    },
    "language_info": {
      "name": "python",
      "version": "3.8"
    }
  },
  "nbformat": 4,
  "nbformat_minor": 5
}